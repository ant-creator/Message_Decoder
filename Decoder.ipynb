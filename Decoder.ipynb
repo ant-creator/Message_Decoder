{
 "cells": [
  {
   "cell_type": "code",
   "execution_count": 11,
   "id": "62c8d15c-65e4-4672-95a7-4bc66160f8e7",
   "metadata": {},
   "outputs": [
    {
     "name": "stdout",
     "output_type": "stream",
     "text": [
      "down each\n"
     ]
    }
   ],
   "source": [
    "def decode(message_file):\n",
    "    # Read the contents of the file\n",
    "    with open(message_file, 'r') as file:\n",
    "        lines = file.readlines()\n",
    "\n",
    "    decoded_words = []\n",
    "    current_number = 1\n",
    "\n",
    "    # Iterate through each line in the file\n",
    "    for line in lines:\n",
    "        # Split the line into number and word\n",
    "        number, word = line.strip().split(' ')\n",
    "        number = int(number)\n",
    "\n",
    "        # If the number matches the current number, add the word to the decoded message\n",
    "        if number == current_number:\n",
    "            decoded_words.append(word)\n",
    "            current_number += 1\n",
    "\n",
    "    # Join the decoded words into a single string\n",
    "    decoded_message = ' '.join(decoded_words)\n",
    "    return decoded_message\n",
    "\n",
    "# Example usage:\n",
    "decoded_message = decode('message_file.txt')\n",
    "print(decoded_message)\n",
    "\n",
    "\n"
   ]
  },
  {
   "cell_type": "code",
   "execution_count": null,
   "id": "eaa2ad35-cad0-4577-964c-6bf6f4fa155b",
   "metadata": {},
   "outputs": [],
   "source": []
  }
 ],
 "metadata": {
  "kernelspec": {
   "display_name": "anaconda-panel-2023.05-py310",
   "language": "python",
   "name": "conda-env-anaconda-panel-2023.05-py310-py"
  },
  "language_info": {
   "codemirror_mode": {
    "name": "ipython",
    "version": 3
   },
   "file_extension": ".py",
   "mimetype": "text/x-python",
   "name": "python",
   "nbconvert_exporter": "python",
   "pygments_lexer": "ipython3",
   "version": "3.11.5"
  }
 },
 "nbformat": 4,
 "nbformat_minor": 5
}
